{
 "cells": [
  {
   "cell_type": "markdown",
   "metadata": {},
   "source": [
    "Last updated on 01-16-2018.\n",
    "\n",
    "Written by Zhiya Zuo\n",
    "\n",
    "Email: [zhiyazuo@gmail.com](mailto:zhiyazuo@gmail.com)"
   ]
  },
  {
   "cell_type": "markdown",
   "metadata": {},
   "source": [
    "---"
   ]
  },
  {
   "cell_type": "markdown",
   "metadata": {},
   "source": [
    "Example usage of `Preprocessor` class."
   ]
  },
  {
   "cell_type": "code",
   "execution_count": 1,
   "metadata": {
    "ExecuteTime": {
     "end_time": "2018-01-16T15:38:12.016411Z",
     "start_time": "2018-01-16T15:38:10.821020Z"
    }
   },
   "outputs": [],
   "source": [
    "import tm_preprocessor"
   ]
  },
  {
   "cell_type": "code",
   "execution_count": 2,
   "metadata": {
    "ExecuteTime": {
     "end_time": "2018-01-16T15:38:12.044210Z",
     "start_time": "2018-01-16T15:38:12.018508Z"
    }
   },
   "outputs": [
    {
     "data": {
      "text/plain": [
       "'0.0.2'"
      ]
     },
     "execution_count": 2,
     "metadata": {},
     "output_type": "execute_result"
    }
   ],
   "source": [
    "tm_preprocessor.__version__"
   ]
  },
  {
   "cell_type": "markdown",
   "metadata": {},
   "source": [
    "#### Load example data"
   ]
  },
  {
   "cell_type": "markdown",
   "metadata": {},
   "source": [
    "Example from https://radimrehurek.com/gensim/tut1.html#corpus-formats, with some minor modifications."
   ]
  },
  {
   "cell_type": "code",
   "execution_count": 3,
   "metadata": {
    "ExecuteTime": {
     "end_time": "2018-01-16T15:38:12.055458Z",
     "start_time": "2018-01-16T15:38:12.046470Z"
    }
   },
   "outputs": [],
   "source": [
    "documents = [\"Human machine interface for lab abc computer applications\",\n",
    "             \"A survey of user opinion of computer system response time 2017 [\\t]\",\n",
    "             \"The EPS user interface management system\",\n",
    "             \"System and human system engineering testing of EPS\",\n",
    "             \"Relation of user perceived response time to error measurement\",\n",
    "             \"The generation of random binary unordered trees\",\n",
    "             \"The intersection graph of paths in trees\",\n",
    "             \"Graph minors IV Widths of trees, and well quasi ordering\",\n",
    "             \"Graph minors: A survey\"]"
   ]
  },
  {
   "cell_type": "markdown",
   "metadata": {},
   "source": [
    "#### Create a `Preprocessor` object"
   ]
  },
  {
   "cell_type": "code",
   "execution_count": 4,
   "metadata": {
    "ExecuteTime": {
     "end_time": "2018-01-16T15:38:12.274439Z",
     "start_time": "2018-01-16T15:38:12.271863Z"
    }
   },
   "outputs": [],
   "source": [
    "from tm_preprocessor import Preprocessor"
   ]
  },
  {
   "cell_type": "code",
   "execution_count": 5,
   "metadata": {
    "ExecuteTime": {
     "end_time": "2018-01-16T15:38:12.515605Z",
     "start_time": "2018-01-16T15:38:12.507405Z"
    }
   },
   "outputs": [
    {
     "name": "stdout",
     "output_type": "stream",
     "text": [
      "Help on class Preprocessor in module tm_preprocessor.preprocessor:\n",
      "\n",
      "class Preprocessor(builtins.object)\n",
      " |  Preprocessor of text corpus before feeding into topic modeling algorithms\n",
      " |  \n",
      " |  Attributes\n",
      " |  ----------\n",
      " |  corpus : np.array\n",
      " |      Processed corpus.\n",
      " |  documents : iteratble object (list/tuple/numpy array...)\n",
      " |      A list of documents\n",
      " |  punctuations : str\n",
      " |      String sequence of punctuations to be removed. By default: \"!@#$%^*(),.:;&=+-_?'`\\\n",
      " |  stopwords : np.array\n",
      " |      An array of stopwords.\n",
      " |  vocabulary : corpora.Dictionary\n",
      " |      Dictionary of self.corpus\n",
      " |  \n",
      " |  Methods\n",
      " |  -------\n",
      " |  remove_digits_punctuactions()\n",
      " |      Remove both digits and punctuations in the corpus.\n",
      " |  add_stopwords(additional_stopwords)\n",
      " |      Add additional stop words (`additional_stopwords`) to `self.stopwords`.\n",
      " |  tokenize(stemmer, min_freq, min_length)\n",
      " |      Tokenize the corpus into bag of words using the specified `stemmer` and\n",
      " |      minimum frequency (`min_freq`) and length (`min_length`) of words/tokens.\n",
      " |  serialize(path, format_)\n",
      " |      Serialize corpus in `format_` and build vocabulary. Save dump files to `path`.\n",
      " |  get_word_ranking()\n",
      " |      Obtain frequency rankings of each word/token. Return `None` if none of the preprocessing has been done.\n",
      " |  \n",
      " |  Methods defined here:\n",
      " |  \n",
      " |  __init__(self, documents, punctuations='\"!@#$%^*(),.:;&=+-_?\\\\\\'`[]', stopword_file=None)\n",
      " |      Init function for `Preprocessor` class\n",
      " |      \n",
      " |      Parameters\n",
      " |      ----------\n",
      " |      corpus : iteratble object (list/tuple/numpy array...; init to None)\n",
      " |          Processed collection of documents.\n",
      " |      documents : iteratble object (list/tuple/numpy array...)\n",
      " |          A list of documents. This should not be altered throughout the processing\n",
      " |      punctuations : str\n",
      " |          String sequence of punctuations to be removed. By default: \"[!@#$%^*(),.:;&=+-_?'`\\\n",
      " |      stopword_file : str\n",
      " |          File path for stop word list. By default use pre-defined stopwords.\n",
      " |  \n",
      " |  add_stopwords(self, additional_stopwords)\n",
      " |      Add additional stopwords to the current `Preprocessor` object.\n",
      " |      \n",
      " |      Parameters\n",
      " |      ----------\n",
      " |      additional_stopwords : iteratble object (list/tuple/numpy array...; init to None)\n",
      " |          Additional stopwords.\n",
      " |  \n",
      " |  get_word_ranking(self)\n",
      " |      Get the ranking of words (tokens). Note that this should be done a\n",
      " |      \n",
      " |      Returns\n",
      " |      -------\n",
      " |      pd.DataFrame\n",
      " |          Sorted dataframe with columns `word` and corresponding `frequency`.\n",
      " |  \n",
      " |  remove_digits_punctuactions(self)\n",
      " |      Remove digits and punctuations\n",
      " |  \n",
      " |  serialize(self, path='.', format_='MmCorpus')\n",
      " |      Serialize corpus and build vocabulary.\n",
      " |      \n",
      " |      Parameters\n",
      " |      ----------\n",
      " |      path : str\n",
      " |          The path to save corpus and vocabulary (current directory by default).\n",
      " |      format_ : str\n",
      " |          The format of the serialized corpus. See https://radimrehurek.com/gensim/tut1.html#corpus-formats\n",
      " |  \n",
      " |  tokenize(self, stemmer=<PorterStemmer>, min_freq=1, min_length=1)\n",
      " |      Tokenize the corpus into bag of words\n",
      " |      \n",
      " |      Parameters\n",
      " |      ----------\n",
      " |      stemmer : nltk.stem stemmers\n",
      " |          Stemmer to use (Porter by default). See http://www.nltk.org/api/nltk.stem.html. If `None`, do not stem.\n",
      " |      min_freq : int\n",
      " |          The minimum frequency of a token to be kept\n",
      " |      min_length : int\n",
      " |          The minimum length of a token to be kept\n",
      " |  \n",
      " |  ----------------------------------------------------------------------\n",
      " |  Data descriptors defined here:\n",
      " |  \n",
      " |  __dict__\n",
      " |      dictionary for instance variables (if defined)\n",
      " |  \n",
      " |  __weakref__\n",
      " |      list of weak references to the object (if defined)\n",
      "\n"
     ]
    }
   ],
   "source": [
    "help(Preprocessor)"
   ]
  },
  {
   "cell_type": "code",
   "execution_count": 6,
   "metadata": {
    "ExecuteTime": {
     "end_time": "2018-01-16T15:38:12.941115Z",
     "start_time": "2018-01-16T15:38:12.935392Z"
    }
   },
   "outputs": [],
   "source": [
    "preprocessor = Preprocessor(documents)"
   ]
  },
  {
   "cell_type": "markdown",
   "metadata": {
    "solution2": "hidden",
    "solution2_first": true
   },
   "source": [
    "##### States of the object `preprocessor`"
   ]
  },
  {
   "cell_type": "markdown",
   "metadata": {
    "solution2": "hidden"
   },
   "source": [
    "###### `documents` that store the original documents"
   ]
  },
  {
   "cell_type": "code",
   "execution_count": 7,
   "metadata": {
    "ExecuteTime": {
     "end_time": "2018-01-16T15:03:42.623058Z",
     "start_time": "2018-01-16T15:03:42.615980Z"
    },
    "solution2": "hidden"
   },
   "outputs": [
    {
     "data": {
      "text/plain": [
       "['Human machine interface for lab abc computer applications',\n",
       " 'A survey of user opinion of computer system response time 2017 [\\\\t]',\n",
       " 'The EPS user interface management system',\n",
       " 'System and human system engineering testing of EPS',\n",
       " 'Relation of user perceived response time to error measurement',\n",
       " 'The generation of random binary unordered trees',\n",
       " 'The intersection graph of paths in trees',\n",
       " 'Graph minors IV Widths of trees, and well quasi ordering',\n",
       " 'Graph minors: A survey']"
      ]
     },
     "execution_count": 7,
     "metadata": {},
     "output_type": "execute_result"
    }
   ],
   "source": [
    "preprocessor.documents"
   ]
  },
  {
   "cell_type": "markdown",
   "metadata": {
    "solution2": "hidden"
   },
   "source": [
    "###### `punctuations` that are to be removed."
   ]
  },
  {
   "cell_type": "markdown",
   "metadata": {
    "solution2": "hidden"
   },
   "source": [
    "Here shows the default values."
   ]
  },
  {
   "cell_type": "code",
   "execution_count": 8,
   "metadata": {
    "ExecuteTime": {
     "end_time": "2018-01-16T15:03:42.938208Z",
     "start_time": "2018-01-16T15:03:42.933580Z"
    },
    "solution2": "hidden"
   },
   "outputs": [
    {
     "data": {
      "text/plain": [
       "'\"!@#$%^*(),.:;&=+-_?\\\\\\'`[]'"
      ]
     },
     "execution_count": 8,
     "metadata": {},
     "output_type": "execute_result"
    }
   ],
   "source": [
    "preprocessor.punctuations"
   ]
  },
  {
   "cell_type": "markdown",
   "metadata": {
    "solution2": "hidden"
   },
   "source": [
    "###### `stopwords`"
   ]
  },
  {
   "cell_type": "markdown",
   "metadata": {
    "solution2": "hidden"
   },
   "source": [
    "Here shows the default values. Note that one can add more using `preprocessor.add_stopwords` method."
   ]
  },
  {
   "cell_type": "code",
   "execution_count": 9,
   "metadata": {
    "ExecuteTime": {
     "end_time": "2018-01-16T15:03:43.527688Z",
     "start_time": "2018-01-16T15:03:43.522028Z"
    },
    "solution2": "hidden"
   },
   "outputs": [
    {
     "data": {
      "text/plain": [
       "array(['i', 'me', 'my', 'myself', 'we', 'our', 'ours', 'ourselves', 'you',\n",
       "       'your', 'yours', 'yourself', 'yourselves', 'he', 'him', 'his',\n",
       "       'himself', 'she', 'her', 'hers', 'herself', 'it', 'its', 'itself',\n",
       "       'they', 'them', 'their', 'theirs', 'themselves', 'what', 'which',\n",
       "       'who', 'whom', 'this', 'that', 'these', 'those', 'am', 'is', 'are',\n",
       "       'was', 'were', 'be', 'been', 'being', 'have', 'has', 'had',\n",
       "       'having', 'do', 'does', 'did', 'doing', 'a', 'an', 'the', 'and',\n",
       "       'but', 'if', 'or', 'because', 'as', 'until', 'while', 'of', 'at',\n",
       "       'by', 'for', 'with', 'about', 'against', 'between', 'into',\n",
       "       'through', 'during', 'before', 'after', 'above', 'below', 'to',\n",
       "       'from', 'up', 'down', 'in', 'out', 'on', 'off', 'over', 'under',\n",
       "       'again', 'further', 'then', 'once', 'here', 'there', 'when',\n",
       "       'where', 'why', 'how', 'all', 'any', 'both', 'each', 'few', 'more',\n",
       "       'most', 'other', 'some', 'such', 'no', 'nor', 'not', 'only', 'own',\n",
       "       'same', 'so', 'than', 'too', 'very', 's', 't', 'can', 'will',\n",
       "       'just', 'don', 'should', 'now'],\n",
       "      dtype='<U10')"
      ]
     },
     "execution_count": 9,
     "metadata": {},
     "output_type": "execute_result"
    }
   ],
   "source": [
    "preprocessor.stopwords"
   ]
  },
  {
   "cell_type": "markdown",
   "metadata": {
    "solution2": "hidden"
   },
   "source": [
    "###### `corpus` and `vocabulary`"
   ]
  },
  {
   "cell_type": "markdown",
   "metadata": {
    "solution2": "hidden"
   },
   "source": [
    "These are `None` at the moment because no processing has been done at this moment."
   ]
  },
  {
   "cell_type": "code",
   "execution_count": 10,
   "metadata": {
    "ExecuteTime": {
     "end_time": "2018-01-16T15:03:44.116983Z",
     "start_time": "2018-01-16T15:03:44.113967Z"
    },
    "solution2": "hidden"
   },
   "outputs": [],
   "source": [
    "preprocessor.corpus"
   ]
  },
  {
   "cell_type": "code",
   "execution_count": 11,
   "metadata": {
    "ExecuteTime": {
     "end_time": "2018-01-16T15:03:44.325650Z",
     "start_time": "2018-01-16T15:03:44.321003Z"
    },
    "solution2": "hidden"
   },
   "outputs": [],
   "source": [
    "preprocessor.vocabulary"
   ]
  },
  {
   "cell_type": "markdown",
   "metadata": {
    "solution2": "hidden",
    "solution2_first": true
   },
   "source": [
    "##### Methods of `preprocessor`"
   ]
  },
  {
   "cell_type": "code",
   "execution_count": 12,
   "metadata": {
    "ExecuteTime": {
     "end_time": "2018-01-16T15:03:45.012853Z",
     "start_time": "2018-01-16T15:03:45.009582Z"
    },
    "solution2": "hidden"
   },
   "outputs": [
    {
     "name": "stdout",
     "output_type": "stream",
     "text": [
      "Help on method add_stopwords in module tm_preprocessor.preprocessor:\n",
      "\n",
      "add_stopwords(additional_stopwords) method of tm_preprocessor.preprocessor.Preprocessor instance\n",
      "    Add additional stopwords to the current `Preprocessor` object.\n",
      "    \n",
      "    Parameters\n",
      "    ----------\n",
      "    additional_stopwords : iteratble object (list/tuple/numpy array...; init to None)\n",
      "        Additional stopwords.\n",
      "\n"
     ]
    }
   ],
   "source": [
    "help(preprocessor.add_stopwords)"
   ]
  },
  {
   "cell_type": "code",
   "execution_count": 13,
   "metadata": {
    "ExecuteTime": {
     "end_time": "2018-01-16T15:03:45.340113Z",
     "start_time": "2018-01-16T15:03:45.336155Z"
    },
    "solution2": "hidden"
   },
   "outputs": [
    {
     "name": "stdout",
     "output_type": "stream",
     "text": [
      "Help on method remove_digits_punctuactions in module tm_preprocessor.preprocessor:\n",
      "\n",
      "remove_digits_punctuactions() method of tm_preprocessor.preprocessor.Preprocessor instance\n",
      "    Remove digits and punctuations\n",
      "\n"
     ]
    }
   ],
   "source": [
    "help(preprocessor.remove_digits_punctuactions)"
   ]
  },
  {
   "cell_type": "code",
   "execution_count": 14,
   "metadata": {
    "ExecuteTime": {
     "end_time": "2018-01-16T15:03:45.625322Z",
     "start_time": "2018-01-16T15:03:45.619808Z"
    },
    "solution2": "hidden"
   },
   "outputs": [
    {
     "name": "stdout",
     "output_type": "stream",
     "text": [
      "Help on method tokenize in module tm_preprocessor.preprocessor:\n",
      "\n",
      "tokenize(stemmer=<PorterStemmer>, min_freq=1, min_length=1) method of tm_preprocessor.preprocessor.Preprocessor instance\n",
      "    Tokenize the corpus into bag of words\n",
      "    \n",
      "    Parameters\n",
      "    ----------\n",
      "    stemmer : nltk.stem stemmers\n",
      "        Stemmer to use (Porter by default). See http://www.nltk.org/api/nltk.stem.html. If `None`, do not stem.\n",
      "    min_freq : int\n",
      "        The minimum frequency of a token to be kept\n",
      "    min_length : int\n",
      "        The minimum length of a token to be kept\n",
      "\n"
     ]
    }
   ],
   "source": [
    "help(preprocessor.tokenize)"
   ]
  },
  {
   "cell_type": "code",
   "execution_count": 15,
   "metadata": {
    "ExecuteTime": {
     "end_time": "2018-01-16T15:03:46.008385Z",
     "start_time": "2018-01-16T15:03:46.003756Z"
    },
    "solution2": "hidden"
   },
   "outputs": [
    {
     "name": "stdout",
     "output_type": "stream",
     "text": [
      "Help on method serialize in module tm_preprocessor.preprocessor:\n",
      "\n",
      "serialize(path='.', format_='MmCorpus') method of tm_preprocessor.preprocessor.Preprocessor instance\n",
      "    Serialize corpus and build vocabulary.\n",
      "    \n",
      "    Parameters\n",
      "    ----------\n",
      "    path : str\n",
      "        The path to save corpus and vocabulary (current directory by default).\n",
      "    format_ : str\n",
      "        The format of the serialized corpus. See https://radimrehurek.com/gensim/tut1.html#corpus-formats\n",
      "\n"
     ]
    }
   ],
   "source": [
    "help(preprocessor.serialize)"
   ]
  },
  {
   "cell_type": "code",
   "execution_count": 16,
   "metadata": {
    "ExecuteTime": {
     "end_time": "2018-01-16T15:03:46.232316Z",
     "start_time": "2018-01-16T15:03:46.226016Z"
    },
    "solution2": "hidden"
   },
   "outputs": [
    {
     "name": "stdout",
     "output_type": "stream",
     "text": [
      "Help on method get_word_ranking in module tm_preprocessor.preprocessor:\n",
      "\n",
      "get_word_ranking() method of tm_preprocessor.preprocessor.Preprocessor instance\n",
      "    Get the ranking of words (tokens). Note that this should be done a\n",
      "    \n",
      "    Returns\n",
      "    -------\n",
      "    pd.DataFrame\n",
      "        Sorted dataframe with columns `word` and corresponding `frequency`.\n",
      "\n"
     ]
    }
   ],
   "source": [
    "help(preprocessor.get_word_ranking)"
   ]
  },
  {
   "cell_type": "markdown",
   "metadata": {},
   "source": [
    "---"
   ]
  },
  {
   "cell_type": "markdown",
   "metadata": {},
   "source": [
    "#### Preprocessing"
   ]
  },
  {
   "cell_type": "markdown",
   "metadata": {},
   "source": [
    "##### Remove punctuations and digits"
   ]
  },
  {
   "cell_type": "code",
   "execution_count": 7,
   "metadata": {
    "ExecuteTime": {
     "end_time": "2018-01-16T15:38:16.541189Z",
     "start_time": "2018-01-16T15:38:16.537529Z"
    }
   },
   "outputs": [],
   "source": [
    "preprocessor.remove_digits_punctuactions()"
   ]
  },
  {
   "cell_type": "code",
   "execution_count": 8,
   "metadata": {
    "ExecuteTime": {
     "end_time": "2018-01-16T15:38:16.729288Z",
     "start_time": "2018-01-16T15:38:16.722213Z"
    }
   },
   "outputs": [
    {
     "data": {
      "text/plain": [
       "['Human machine interface for lab abc computer applications',\n",
       " 'A survey of user opinion of computer system response time 2017 [\\\\t]',\n",
       " 'The EPS user interface management system',\n",
       " 'System and human system engineering testing of EPS',\n",
       " 'Relation of user perceived response time to error measurement',\n",
       " 'The generation of random binary unordered trees',\n",
       " 'The intersection graph of paths in trees',\n",
       " 'Graph minors IV Widths of trees, and well quasi ordering',\n",
       " 'Graph minors: A survey']"
      ]
     },
     "execution_count": 8,
     "metadata": {},
     "output_type": "execute_result"
    }
   ],
   "source": [
    "preprocessor.documents"
   ]
  },
  {
   "cell_type": "code",
   "execution_count": 9,
   "metadata": {
    "ExecuteTime": {
     "end_time": "2018-01-16T15:38:16.896725Z",
     "start_time": "2018-01-16T15:38:16.890128Z"
    }
   },
   "outputs": [
    {
     "data": {
      "text/plain": [
       "array(['Human machine interface for lab abc computer applications',\n",
       "       'A survey of user opinion of computer system response time        t ',\n",
       "       'The EPS user interface management system',\n",
       "       'System and human system engineering testing of EPS',\n",
       "       'Relation of user perceived response time to error measurement',\n",
       "       'The generation of random binary unordered trees',\n",
       "       'The intersection graph of paths in trees',\n",
       "       'Graph minors IV Widths of trees  and well quasi ordering',\n",
       "       'Graph minors  A survey'],\n",
       "      dtype='<U67')"
      ]
     },
     "execution_count": 9,
     "metadata": {},
     "output_type": "execute_result"
    }
   ],
   "source": [
    "preprocessor.corpus"
   ]
  },
  {
   "cell_type": "markdown",
   "metadata": {},
   "source": [
    "##### Tokenize"
   ]
  },
  {
   "cell_type": "markdown",
   "metadata": {},
   "source": [
    "###### Use `Porter` Stemmer"
   ]
  },
  {
   "cell_type": "code",
   "execution_count": 10,
   "metadata": {
    "ExecuteTime": {
     "end_time": "2018-01-16T15:38:17.527950Z",
     "start_time": "2018-01-16T15:38:17.525219Z"
    }
   },
   "outputs": [],
   "source": [
    "from nltk.stem.porter import PorterStemmer"
   ]
  },
  {
   "cell_type": "code",
   "execution_count": 11,
   "metadata": {
    "ExecuteTime": {
     "end_time": "2018-01-16T15:38:17.744135Z",
     "start_time": "2018-01-16T15:38:17.739748Z"
    }
   },
   "outputs": [],
   "source": [
    "stemmer = PorterStemmer()"
   ]
  },
  {
   "cell_type": "markdown",
   "metadata": {},
   "source": [
    "Set `min_freq` to 0 and use the default value of `min_length` (1)"
   ]
  },
  {
   "cell_type": "code",
   "execution_count": 12,
   "metadata": {
    "ExecuteTime": {
     "end_time": "2018-01-16T15:38:18.139815Z",
     "start_time": "2018-01-16T15:38:18.134250Z"
    }
   },
   "outputs": [],
   "source": [
    "preprocessor.tokenize(stemmer, 0, 0)"
   ]
  },
  {
   "cell_type": "code",
   "execution_count": 13,
   "metadata": {
    "ExecuteTime": {
     "end_time": "2018-01-16T15:38:18.344833Z",
     "start_time": "2018-01-16T15:38:18.338316Z"
    }
   },
   "outputs": [
    {
     "data": {
      "text/plain": [
       "array([list(['human', 'machin', 'interfac', 'lab', 'abc', 'comput', 'applic']),\n",
       "       list(['survey', 'user', 'opinion', 'comput', 'system', 'respons', 'time']),\n",
       "       list(['ep', 'user', 'interfac', 'manag', 'system']),\n",
       "       list(['system', 'human', 'system', 'engin', 'test', 'ep']),\n",
       "       list(['relat', 'user', 'perceiv', 'respons', 'time', 'error', 'measur']),\n",
       "       list(['gener', 'random', 'binari', 'unord', 'tree']),\n",
       "       list(['intersect', 'graph', 'path', 'tree']),\n",
       "       list(['graph', 'minor', 'iv', 'width', 'tree', 'well', 'quasi', 'order']),\n",
       "       list(['graph', 'minor', 'survey'])], dtype=object)"
      ]
     },
     "execution_count": 13,
     "metadata": {},
     "output_type": "execute_result"
    }
   ],
   "source": [
    "preprocessor.corpus"
   ]
  },
  {
   "cell_type": "markdown",
   "metadata": {},
   "source": [
    "##### Serialize the corpus"
   ]
  },
  {
   "cell_type": "markdown",
   "metadata": {},
   "source": [
    "###### Save as `Market Matrix format`"
   ]
  },
  {
   "cell_type": "markdown",
   "metadata": {
    "ExecuteTime": {
     "end_time": "2017-07-22T16:11:52.935190Z",
     "start_time": "2017-07-22T16:11:52.929845Z"
    }
   },
   "source": [
    "See http://math.nist.gov/MatrixMarket/formats.html"
   ]
  },
  {
   "cell_type": "code",
   "execution_count": 14,
   "metadata": {
    "ExecuteTime": {
     "end_time": "2018-01-16T15:38:19.171592Z",
     "start_time": "2018-01-16T15:38:19.164958Z"
    }
   },
   "outputs": [],
   "source": [
    "preprocessor.serialize(format_='MmCorpus', path='~/Desktop')"
   ]
  },
  {
   "cell_type": "markdown",
   "metadata": {},
   "source": [
    "---"
   ]
  },
  {
   "cell_type": "markdown",
   "metadata": {},
   "source": [
    "#### Frequencies of words/tokens"
   ]
  },
  {
   "cell_type": "code",
   "execution_count": 15,
   "metadata": {
    "ExecuteTime": {
     "end_time": "2018-01-16T15:38:20.026653Z",
     "start_time": "2018-01-16T15:38:20.007179Z"
    }
   },
   "outputs": [
    {
     "data": {
      "text/html": [
       "<div>\n",
       "<style scoped>\n",
       "    .dataframe tbody tr th:only-of-type {\n",
       "        vertical-align: middle;\n",
       "    }\n",
       "\n",
       "    .dataframe tbody tr th {\n",
       "        vertical-align: top;\n",
       "    }\n",
       "\n",
       "    .dataframe thead th {\n",
       "        text-align: right;\n",
       "    }\n",
       "</style>\n",
       "<table border=\"1\" class=\"dataframe\">\n",
       "  <thead>\n",
       "    <tr style=\"text-align: right;\">\n",
       "      <th></th>\n",
       "      <th>word</th>\n",
       "      <th>frequency</th>\n",
       "    </tr>\n",
       "  </thead>\n",
       "  <tbody>\n",
       "    <tr>\n",
       "      <th>0</th>\n",
       "      <td>system</td>\n",
       "      <td>4</td>\n",
       "    </tr>\n",
       "    <tr>\n",
       "      <th>1</th>\n",
       "      <td>user</td>\n",
       "      <td>3</td>\n",
       "    </tr>\n",
       "    <tr>\n",
       "      <th>2</th>\n",
       "      <td>tree</td>\n",
       "      <td>3</td>\n",
       "    </tr>\n",
       "    <tr>\n",
       "      <th>3</th>\n",
       "      <td>graph</td>\n",
       "      <td>3</td>\n",
       "    </tr>\n",
       "    <tr>\n",
       "      <th>4</th>\n",
       "      <td>minor</td>\n",
       "      <td>2</td>\n",
       "    </tr>\n",
       "    <tr>\n",
       "      <th>5</th>\n",
       "      <td>ep</td>\n",
       "      <td>2</td>\n",
       "    </tr>\n",
       "    <tr>\n",
       "      <th>6</th>\n",
       "      <td>time</td>\n",
       "      <td>2</td>\n",
       "    </tr>\n",
       "    <tr>\n",
       "      <th>7</th>\n",
       "      <td>respons</td>\n",
       "      <td>2</td>\n",
       "    </tr>\n",
       "    <tr>\n",
       "      <th>8</th>\n",
       "      <td>human</td>\n",
       "      <td>2</td>\n",
       "    </tr>\n",
       "    <tr>\n",
       "      <th>9</th>\n",
       "      <td>survey</td>\n",
       "      <td>2</td>\n",
       "    </tr>\n",
       "    <tr>\n",
       "      <th>10</th>\n",
       "      <td>comput</td>\n",
       "      <td>2</td>\n",
       "    </tr>\n",
       "    <tr>\n",
       "      <th>11</th>\n",
       "      <td>interfac</td>\n",
       "      <td>2</td>\n",
       "    </tr>\n",
       "    <tr>\n",
       "      <th>12</th>\n",
       "      <td>iv</td>\n",
       "      <td>1</td>\n",
       "    </tr>\n",
       "    <tr>\n",
       "      <th>13</th>\n",
       "      <td>random</td>\n",
       "      <td>1</td>\n",
       "    </tr>\n",
       "    <tr>\n",
       "      <th>14</th>\n",
       "      <td>width</td>\n",
       "      <td>1</td>\n",
       "    </tr>\n",
       "    <tr>\n",
       "      <th>15</th>\n",
       "      <td>well</td>\n",
       "      <td>1</td>\n",
       "    </tr>\n",
       "    <tr>\n",
       "      <th>16</th>\n",
       "      <td>path</td>\n",
       "      <td>1</td>\n",
       "    </tr>\n",
       "    <tr>\n",
       "      <th>17</th>\n",
       "      <td>quasi</td>\n",
       "      <td>1</td>\n",
       "    </tr>\n",
       "    <tr>\n",
       "      <th>18</th>\n",
       "      <td>intersect</td>\n",
       "      <td>1</td>\n",
       "    </tr>\n",
       "    <tr>\n",
       "      <th>19</th>\n",
       "      <td>unord</td>\n",
       "      <td>1</td>\n",
       "    </tr>\n",
       "    <tr>\n",
       "      <th>20</th>\n",
       "      <td>binari</td>\n",
       "      <td>1</td>\n",
       "    </tr>\n",
       "    <tr>\n",
       "      <th>21</th>\n",
       "      <td>relat</td>\n",
       "      <td>1</td>\n",
       "    </tr>\n",
       "    <tr>\n",
       "      <th>22</th>\n",
       "      <td>gener</td>\n",
       "      <td>1</td>\n",
       "    </tr>\n",
       "    <tr>\n",
       "      <th>23</th>\n",
       "      <td>measur</td>\n",
       "      <td>1</td>\n",
       "    </tr>\n",
       "    <tr>\n",
       "      <th>24</th>\n",
       "      <td>error</td>\n",
       "      <td>1</td>\n",
       "    </tr>\n",
       "    <tr>\n",
       "      <th>25</th>\n",
       "      <td>perceiv</td>\n",
       "      <td>1</td>\n",
       "    </tr>\n",
       "    <tr>\n",
       "      <th>26</th>\n",
       "      <td>machin</td>\n",
       "      <td>1</td>\n",
       "    </tr>\n",
       "    <tr>\n",
       "      <th>27</th>\n",
       "      <td>test</td>\n",
       "      <td>1</td>\n",
       "    </tr>\n",
       "    <tr>\n",
       "      <th>28</th>\n",
       "      <td>engin</td>\n",
       "      <td>1</td>\n",
       "    </tr>\n",
       "    <tr>\n",
       "      <th>29</th>\n",
       "      <td>manag</td>\n",
       "      <td>1</td>\n",
       "    </tr>\n",
       "    <tr>\n",
       "      <th>30</th>\n",
       "      <td>opinion</td>\n",
       "      <td>1</td>\n",
       "    </tr>\n",
       "    <tr>\n",
       "      <th>31</th>\n",
       "      <td>applic</td>\n",
       "      <td>1</td>\n",
       "    </tr>\n",
       "    <tr>\n",
       "      <th>32</th>\n",
       "      <td>abc</td>\n",
       "      <td>1</td>\n",
       "    </tr>\n",
       "    <tr>\n",
       "      <th>33</th>\n",
       "      <td>lab</td>\n",
       "      <td>1</td>\n",
       "    </tr>\n",
       "    <tr>\n",
       "      <th>34</th>\n",
       "      <td>order</td>\n",
       "      <td>1</td>\n",
       "    </tr>\n",
       "  </tbody>\n",
       "</table>\n",
       "</div>"
      ],
      "text/plain": [
       "         word  frequency\n",
       "0      system          4\n",
       "1        user          3\n",
       "2        tree          3\n",
       "3       graph          3\n",
       "4       minor          2\n",
       "5          ep          2\n",
       "6        time          2\n",
       "7     respons          2\n",
       "8       human          2\n",
       "9      survey          2\n",
       "10     comput          2\n",
       "11   interfac          2\n",
       "12         iv          1\n",
       "13     random          1\n",
       "14      width          1\n",
       "15       well          1\n",
       "16       path          1\n",
       "17      quasi          1\n",
       "18  intersect          1\n",
       "19      unord          1\n",
       "20     binari          1\n",
       "21      relat          1\n",
       "22      gener          1\n",
       "23     measur          1\n",
       "24      error          1\n",
       "25    perceiv          1\n",
       "26     machin          1\n",
       "27       test          1\n",
       "28      engin          1\n",
       "29      manag          1\n",
       "30    opinion          1\n",
       "31     applic          1\n",
       "32        abc          1\n",
       "33        lab          1\n",
       "34      order          1"
      ]
     },
     "execution_count": 15,
     "metadata": {},
     "output_type": "execute_result"
    }
   ],
   "source": [
    "preprocessor.get_word_ranking()"
   ]
  },
  {
   "cell_type": "code",
   "execution_count": null,
   "metadata": {},
   "outputs": [],
   "source": []
  }
 ],
 "metadata": {
  "kernelspec": {
   "display_name": "Python 3",
   "language": "python",
   "name": "python3"
  },
  "language_info": {
   "codemirror_mode": {
    "name": "ipython",
    "version": 3
   },
   "file_extension": ".py",
   "mimetype": "text/x-python",
   "name": "python",
   "nbconvert_exporter": "python",
   "pygments_lexer": "ipython3",
   "version": "3.6.4"
  },
  "toc": {
   "nav_menu": {
    "height": "331px",
    "width": "254px"
   },
   "number_sections": true,
   "sideBar": true,
   "skip_h1_title": false,
   "toc_cell": false,
   "toc_position": {
    "height": "863px",
    "left": "0px",
    "right": "1468px",
    "top": "113px",
    "width": "212px"
   },
   "toc_section_display": "block",
   "toc_window_display": true
  }
 },
 "nbformat": 4,
 "nbformat_minor": 2
}
