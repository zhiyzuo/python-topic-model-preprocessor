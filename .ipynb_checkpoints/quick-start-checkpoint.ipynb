{
 "cells": [
  {
   "cell_type": "markdown",
   "metadata": {},
   "source": [
    "Example usage of `Preprocessor` class."
   ]
  },
  {
   "cell_type": "code",
   "execution_count": 1,
   "metadata": {
    "ExecuteTime": {
     "end_time": "2017-07-22T18:54:05.774954Z",
     "start_time": "2017-07-22T18:54:04.776891Z"
    },
    "collapsed": true
   },
   "outputs": [],
   "source": [
    "import tm_preprocessor"
   ]
  },
  {
   "cell_type": "code",
   "execution_count": 2,
   "metadata": {
    "ExecuteTime": {
     "end_time": "2017-07-22T18:54:09.442880Z",
     "start_time": "2017-07-22T18:54:09.434863Z"
    }
   },
   "outputs": [
    {
     "data": {
      "text/plain": [
       "'0.0.1a3'"
      ]
     },
     "execution_count": 2,
     "metadata": {},
     "output_type": "execute_result"
    }
   ],
   "source": [
    "tm_preprocessor.__version__"
   ]
  },
  {
   "cell_type": "markdown",
   "metadata": {},
   "source": [
    "#### Load example data"
   ]
  },
  {
   "cell_type": "markdown",
   "metadata": {},
   "source": [
    "Example from https://radimrehurek.com/gensim/tut1.html#corpus-formats, with some minor modifications."
   ]
  },
  {
   "cell_type": "code",
   "execution_count": 3,
   "metadata": {
    "ExecuteTime": {
     "end_time": "2017-07-22T18:54:11.764600Z",
     "start_time": "2017-07-22T18:54:11.758525Z"
    },
    "collapsed": true
   },
   "outputs": [],
   "source": [
    "documents = [\"Human machine interface for lab abc computer applications\",\n",
    "             \"A survey of user opinion of computer system response time 2017\",\n",
    "             \"The EPS user interface management system\",\n",
    "             \"System and human system engineering testing of EPS\",\n",
    "             \"Relation of user perceived response time to error measurement\",\n",
    "             \"The generation of random binary unordered trees\",\n",
    "             \"The intersection graph of paths in trees\",\n",
    "             \"Graph minors IV Widths of trees, and well quasi ordering\",\n",
    "             \"Graph minors: A survey\"]"
   ]
  },
  {
   "cell_type": "markdown",
   "metadata": {},
   "source": [
    "#### Create a `Preprocessor` object"
   ]
  },
  {
   "cell_type": "code",
   "execution_count": 4,
   "metadata": {
    "ExecuteTime": {
     "end_time": "2017-07-22T18:54:12.689569Z",
     "start_time": "2017-07-22T18:54:12.686141Z"
    },
    "collapsed": true
   },
   "outputs": [],
   "source": [
    "from tm_preprocessor import Preprocessor"
   ]
  },
  {
   "cell_type": "code",
   "execution_count": 5,
   "metadata": {
    "ExecuteTime": {
     "end_time": "2017-07-22T18:54:13.639382Z",
     "start_time": "2017-07-22T18:54:13.631607Z"
    }
   },
   "outputs": [
    {
     "name": "stdout",
     "output_type": "stream",
     "text": [
      "Help on class Preprocessor in module tm_preprocessor.preprocessor:\n",
      "\n",
      "class Preprocessor(__builtin__.object)\n",
      " |  Preprocessor of text corpus before feeding into topic modeling algorithms\n",
      " |  \n",
      " |  Attributes\n",
      " |  ----------\n",
      " |  corpus : np.array\n",
      " |      Processed corpus.\n",
      " |  documents : iteratble object (list/tuple/numpy array...)\n",
      " |      A list of documents\n",
      " |  punctuations : str\n",
      " |      String sequence of punctuations to be removed. By default: \"!@#$%^*(),.:;&=+-_?'`\\\n",
      " |  stopwords : np.array\n",
      " |      An array of stopwords.\n",
      " |  vocabulary : corpora.Dictionary\n",
      " |      Dictionary of self.corpus\n",
      " |  \n",
      " |  Methods\n",
      " |  -------\n",
      " |  remove_digits_punctuactions()\n",
      " |      Remove both digits and punctuations in the corpus.\n",
      " |  add_stopwords(additional_stopwords)\n",
      " |      Add additional stop words (`additional_stopwords`) to `self.stopwords`.\n",
      " |  tokenize(stemmer, min_freq, min_length)\n",
      " |      Tokenize the corpus into bag of words using the specified `stemmer` and \n",
      " |      minimum frequency (`min_freq`) and length (`min_length`) of words/tokens.\n",
      " |  serialize(path, format_)\n",
      " |      Serialize corpus in `format_` and build vocabulary. Save dump files to `path`.\n",
      " |  get_word_ranking()\n",
      " |      Obtain frequency rankings of each word/token. Return `None` if none of the preprocessing has been done.\n",
      " |  \n",
      " |  Methods defined here:\n",
      " |  \n",
      " |  __init__(self, documents, punctuations='\"!@#$%^*(),.:;&=+-_?\\\\\\'`', stopword_file=None)\n",
      " |      Init function for `Preprocessor` class\n",
      " |      \n",
      " |      Parameters\n",
      " |      ----------\n",
      " |      corpus : iteratble object (list/tuple/numpy array...; init to None)\n",
      " |          Processed collection of documents.\n",
      " |      documents : iteratble object (list/tuple/numpy array...)\n",
      " |          A list of documents. This should not be altered throughout the processing\n",
      " |      punctuations : str\n",
      " |          String sequence of punctuations to be removed. By default: \"!@#$%^*(),.:;&=+-_?'`\\\n",
      " |      stopword_file : str\n",
      " |          File path for stop word list. By default use pre-defined stopwords.\n",
      " |  \n",
      " |  add_stopwords(self, additional_stopwords)\n",
      " |      Add additional stopwords to the current `Preprocessor` object.\n",
      " |      \n",
      " |      Parameters\n",
      " |      ----------\n",
      " |      additional_stopwords : iteratble object (list/tuple/numpy array...; init to None)\n",
      " |          Additional stopwords.\n",
      " |  \n",
      " |  get_word_ranking(self)\n",
      " |      Get the ranking of words (tokens). Note that this should be done a\n",
      " |      \n",
      " |      Returns\n",
      " |      -------\n",
      " |      pd.DataFrame\n",
      " |          Sorted dataframe with columns `word` and corresponding `frequency`.\n",
      " |  \n",
      " |  remove_digits_punctuactions(self)\n",
      " |      Remove digits and punctuations\n",
      " |  \n",
      " |  serialize(self, path='.', format_='MmCorpus')\n",
      " |      Serialize corpus and build vocabulary.\n",
      " |      \n",
      " |      Parameters\n",
      " |      ----------\n",
      " |      path : str\n",
      " |          The path to save corpus and vocabulary (current directory by default).\n",
      " |      format_ : str\n",
      " |          The format of the serialized corpus. See https://radimrehurek.com/gensim/tut1.html#corpus-formats\n",
      " |  \n",
      " |  tokenize(self, stemmer=<PorterStemmer>, min_freq=1, min_length=1)\n",
      " |      Tokenize the corpus into bag of words\n",
      " |      \n",
      " |      Parameters\n",
      " |      ----------\n",
      " |      stemmer : nltk.stem stemmers\n",
      " |          Stemmer to use (Porter by default). See http://www.nltk.org/api/nltk.stem.html. If `None`, do not stem.\n",
      " |      min_freq : int\n",
      " |          The minimum frequency of a token to be kept\n",
      " |      min_length : int\n",
      " |          The minimum length of a token to be kept\n",
      " |  \n",
      " |  ----------------------------------------------------------------------\n",
      " |  Data descriptors defined here:\n",
      " |  \n",
      " |  __dict__\n",
      " |      dictionary for instance variables (if defined)\n",
      " |  \n",
      " |  __weakref__\n",
      " |      list of weak references to the object (if defined)\n",
      "\n"
     ]
    }
   ],
   "source": [
    "help(Preprocessor)"
   ]
  },
  {
   "cell_type": "code",
   "execution_count": 6,
   "metadata": {
    "ExecuteTime": {
     "end_time": "2017-07-22T18:54:13.915771Z",
     "start_time": "2017-07-22T18:54:13.910807Z"
    },
    "collapsed": true
   },
   "outputs": [],
   "source": [
    "preprocessor = Preprocessor(documents)"
   ]
  },
  {
   "cell_type": "markdown",
   "metadata": {
    "solution2": "shown",
    "solution2_first": true
   },
   "source": [
    "##### States of the object `preprocessor`"
   ]
  },
  {
   "cell_type": "markdown",
   "metadata": {
    "solution2": "shown"
   },
   "source": [
    "###### `documents` that store the original documents"
   ]
  },
  {
   "cell_type": "code",
   "execution_count": 7,
   "metadata": {
    "ExecuteTime": {
     "end_time": "2017-07-22T18:54:15.388326Z",
     "start_time": "2017-07-22T18:54:15.383079Z"
    },
    "solution2": "shown"
   },
   "outputs": [
    {
     "data": {
      "text/plain": [
       "['Human machine interface for lab abc computer applications',\n",
       " 'A survey of user opinion of computer system response time 2017',\n",
       " 'The EPS user interface management system',\n",
       " 'System and human system engineering testing of EPS',\n",
       " 'Relation of user perceived response time to error measurement',\n",
       " 'The generation of random binary unordered trees',\n",
       " 'The intersection graph of paths in trees',\n",
       " 'Graph minors IV Widths of trees, and well quasi ordering',\n",
       " 'Graph minors: A survey']"
      ]
     },
     "execution_count": 7,
     "metadata": {},
     "output_type": "execute_result"
    }
   ],
   "source": [
    "preprocessor.documents"
   ]
  },
  {
   "cell_type": "markdown",
   "metadata": {
    "solution2": "shown"
   },
   "source": [
    "###### `punctuations` that are to be removed."
   ]
  },
  {
   "cell_type": "markdown",
   "metadata": {
    "solution2": "shown"
   },
   "source": [
    "Here shows the default values."
   ]
  },
  {
   "cell_type": "code",
   "execution_count": 8,
   "metadata": {
    "ExecuteTime": {
     "end_time": "2017-07-22T18:54:16.325199Z",
     "start_time": "2017-07-22T18:54:16.318053Z"
    },
    "solution2": "shown"
   },
   "outputs": [
    {
     "data": {
      "text/plain": [
       "'\"!@#$%^*(),.:;&=+-_?\\\\\\'`'"
      ]
     },
     "execution_count": 8,
     "metadata": {},
     "output_type": "execute_result"
    }
   ],
   "source": [
    "preprocessor.punctuations"
   ]
  },
  {
   "cell_type": "markdown",
   "metadata": {
    "solution2": "shown"
   },
   "source": [
    "###### `stopwords`"
   ]
  },
  {
   "cell_type": "markdown",
   "metadata": {
    "solution2": "shown"
   },
   "source": [
    "Here shows the default values. Note that one can add more using `preprocessor.add_stopwords` method."
   ]
  },
  {
   "cell_type": "code",
   "execution_count": 9,
   "metadata": {
    "ExecuteTime": {
     "end_time": "2017-07-22T18:54:17.092462Z",
     "start_time": "2017-07-22T18:54:17.086174Z"
    },
    "solution2": "shown"
   },
   "outputs": [
    {
     "data": {
      "text/plain": [
       "array(['i', 'me', 'my', 'myself', 'we', 'our', 'ours', 'ourselves', 'you',\n",
       "       'your', 'yours', 'yourself', 'yourselves', 'he', 'him', 'his',\n",
       "       'himself', 'she', 'her', 'hers', 'herself', 'it', 'its', 'itself',\n",
       "       'they', 'them', 'their', 'theirs', 'themselves', 'what', 'which',\n",
       "       'who', 'whom', 'this', 'that', 'these', 'those', 'am', 'is', 'are',\n",
       "       'was', 'were', 'be', 'been', 'being', 'have', 'has', 'had',\n",
       "       'having', 'do', 'does', 'did', 'doing', 'a', 'an', 'the', 'and',\n",
       "       'but', 'if', 'or', 'because', 'as', 'until', 'while', 'of', 'at',\n",
       "       'by', 'for', 'with', 'about', 'against', 'between', 'into',\n",
       "       'through', 'during', 'before', 'after', 'above', 'below', 'to',\n",
       "       'from', 'up', 'down', 'in', 'out', 'on', 'off', 'over', 'under',\n",
       "       'again', 'further', 'then', 'once', 'here', 'there', 'when',\n",
       "       'where', 'why', 'how', 'all', 'any', 'both', 'each', 'few', 'more',\n",
       "       'most', 'other', 'some', 'such', 'no', 'nor', 'not', 'only', 'own',\n",
       "       'same', 'so', 'than', 'too', 'very', 's', 't', 'can', 'will',\n",
       "       'just', 'don', 'should', 'now'],\n",
       "      dtype='|S10')"
      ]
     },
     "execution_count": 9,
     "metadata": {},
     "output_type": "execute_result"
    }
   ],
   "source": [
    "preprocessor.stopwords"
   ]
  },
  {
   "cell_type": "markdown",
   "metadata": {
    "solution2": "shown"
   },
   "source": [
    "###### `corpus` and `vocabulary`"
   ]
  },
  {
   "cell_type": "markdown",
   "metadata": {
    "solution2": "shown"
   },
   "source": [
    "These are `None` at the moment because no processing has been done at this moment."
   ]
  },
  {
   "cell_type": "code",
   "execution_count": 10,
   "metadata": {
    "ExecuteTime": {
     "end_time": "2017-07-22T18:54:17.883561Z",
     "start_time": "2017-07-22T18:54:17.879418Z"
    },
    "collapsed": true,
    "solution2": "shown"
   },
   "outputs": [],
   "source": [
    "preprocessor.corpus"
   ]
  },
  {
   "cell_type": "code",
   "execution_count": 11,
   "metadata": {
    "ExecuteTime": {
     "end_time": "2017-07-22T18:54:18.153522Z",
     "start_time": "2017-07-22T18:54:18.149787Z"
    },
    "collapsed": true,
    "solution2": "shown"
   },
   "outputs": [],
   "source": [
    "preprocessor.vocabulary"
   ]
  },
  {
   "cell_type": "markdown",
   "metadata": {
    "solution2": "shown",
    "solution2_first": true
   },
   "source": [
    "##### Methods of `preprocessor`"
   ]
  },
  {
   "cell_type": "code",
   "execution_count": 12,
   "metadata": {
    "ExecuteTime": {
     "end_time": "2017-07-22T18:54:21.620175Z",
     "start_time": "2017-07-22T18:54:21.614176Z"
    },
    "solution2": "shown"
   },
   "outputs": [
    {
     "name": "stdout",
     "output_type": "stream",
     "text": [
      "Help on method add_stopwords in module tm_preprocessor.preprocessor:\n",
      "\n",
      "add_stopwords(self, additional_stopwords) method of tm_preprocessor.preprocessor.Preprocessor instance\n",
      "    Add additional stopwords to the current `Preprocessor` object.\n",
      "    \n",
      "    Parameters\n",
      "    ----------\n",
      "    additional_stopwords : iteratble object (list/tuple/numpy array...; init to None)\n",
      "        Additional stopwords.\n",
      "\n"
     ]
    }
   ],
   "source": [
    "help(preprocessor.add_stopwords)"
   ]
  },
  {
   "cell_type": "code",
   "execution_count": 13,
   "metadata": {
    "ExecuteTime": {
     "end_time": "2017-07-22T18:54:22.011344Z",
     "start_time": "2017-07-22T18:54:22.006761Z"
    },
    "solution2": "shown"
   },
   "outputs": [
    {
     "name": "stdout",
     "output_type": "stream",
     "text": [
      "Help on method remove_digits_punctuactions in module tm_preprocessor.preprocessor:\n",
      "\n",
      "remove_digits_punctuactions(self) method of tm_preprocessor.preprocessor.Preprocessor instance\n",
      "    Remove digits and punctuations\n",
      "\n"
     ]
    }
   ],
   "source": [
    "help(preprocessor.remove_digits_punctuactions)"
   ]
  },
  {
   "cell_type": "code",
   "execution_count": 14,
   "metadata": {
    "ExecuteTime": {
     "end_time": "2017-07-22T18:54:22.516058Z",
     "start_time": "2017-07-22T18:54:22.510030Z"
    },
    "solution2": "shown"
   },
   "outputs": [
    {
     "name": "stdout",
     "output_type": "stream",
     "text": [
      "Help on method tokenize in module tm_preprocessor.preprocessor:\n",
      "\n",
      "tokenize(self, stemmer=<PorterStemmer>, min_freq=1, min_length=1) method of tm_preprocessor.preprocessor.Preprocessor instance\n",
      "    Tokenize the corpus into bag of words\n",
      "    \n",
      "    Parameters\n",
      "    ----------\n",
      "    stemmer : nltk.stem stemmers\n",
      "        Stemmer to use (Porter by default). See http://www.nltk.org/api/nltk.stem.html. If `None`, do not stem.\n",
      "    min_freq : int\n",
      "        The minimum frequency of a token to be kept\n",
      "    min_length : int\n",
      "        The minimum length of a token to be kept\n",
      "\n"
     ]
    }
   ],
   "source": [
    "help(preprocessor.tokenize)"
   ]
  },
  {
   "cell_type": "code",
   "execution_count": 15,
   "metadata": {
    "ExecuteTime": {
     "end_time": "2017-07-22T18:54:22.771840Z",
     "start_time": "2017-07-22T18:54:22.766242Z"
    },
    "solution2": "shown"
   },
   "outputs": [
    {
     "name": "stdout",
     "output_type": "stream",
     "text": [
      "Help on method serialize in module tm_preprocessor.preprocessor:\n",
      "\n",
      "serialize(self, path='.', format_='MmCorpus') method of tm_preprocessor.preprocessor.Preprocessor instance\n",
      "    Serialize corpus and build vocabulary.\n",
      "    \n",
      "    Parameters\n",
      "    ----------\n",
      "    path : str\n",
      "        The path to save corpus and vocabulary (current directory by default).\n",
      "    format_ : str\n",
      "        The format of the serialized corpus. See https://radimrehurek.com/gensim/tut1.html#corpus-formats\n",
      "\n"
     ]
    }
   ],
   "source": [
    "help(preprocessor.serialize)"
   ]
  },
  {
   "cell_type": "code",
   "execution_count": 16,
   "metadata": {
    "ExecuteTime": {
     "end_time": "2017-07-22T18:54:23.028584Z",
     "start_time": "2017-07-22T18:54:23.023477Z"
    },
    "solution2": "shown"
   },
   "outputs": [
    {
     "name": "stdout",
     "output_type": "stream",
     "text": [
      "Help on method get_word_ranking in module tm_preprocessor.preprocessor:\n",
      "\n",
      "get_word_ranking(self) method of tm_preprocessor.preprocessor.Preprocessor instance\n",
      "    Get the ranking of words (tokens). Note that this should be done a\n",
      "    \n",
      "    Returns\n",
      "    -------\n",
      "    pd.DataFrame\n",
      "        Sorted dataframe with columns `word` and corresponding `frequency`.\n",
      "\n"
     ]
    }
   ],
   "source": [
    "help(preprocessor.get_word_ranking)"
   ]
  },
  {
   "cell_type": "markdown",
   "metadata": {},
   "source": [
    "#### Preprocessing"
   ]
  },
  {
   "cell_type": "markdown",
   "metadata": {},
   "source": [
    "##### Remove punctuations and digits"
   ]
  },
  {
   "cell_type": "code",
   "execution_count": 17,
   "metadata": {
    "ExecuteTime": {
     "end_time": "2017-07-22T18:54:24.091893Z",
     "start_time": "2017-07-22T18:54:24.086768Z"
    },
    "collapsed": true
   },
   "outputs": [],
   "source": [
    "preprocessor.remove_digits_punctuactions()"
   ]
  },
  {
   "cell_type": "code",
   "execution_count": 18,
   "metadata": {
    "ExecuteTime": {
     "end_time": "2017-07-22T18:54:24.492216Z",
     "start_time": "2017-07-22T18:54:24.486604Z"
    }
   },
   "outputs": [
    {
     "data": {
      "text/plain": [
       "['Human machine interface for lab abc computer applications',\n",
       " 'A survey of user opinion of computer system response time 2017',\n",
       " 'The EPS user interface management system',\n",
       " 'System and human system engineering testing of EPS',\n",
       " 'Relation of user perceived response time to error measurement',\n",
       " 'The generation of random binary unordered trees',\n",
       " 'The intersection graph of paths in trees',\n",
       " 'Graph minors IV Widths of trees, and well quasi ordering',\n",
       " 'Graph minors: A survey']"
      ]
     },
     "execution_count": 18,
     "metadata": {},
     "output_type": "execute_result"
    }
   ],
   "source": [
    "preprocessor.documents"
   ]
  },
  {
   "cell_type": "code",
   "execution_count": 19,
   "metadata": {
    "ExecuteTime": {
     "end_time": "2017-07-22T18:54:24.892220Z",
     "start_time": "2017-07-22T18:54:24.886790Z"
    }
   },
   "outputs": [
    {
     "data": {
      "text/plain": [
       "array(['Human machine interface for lab abc computer applications',\n",
       "       'A survey of user opinion of computer system response time ',\n",
       "       'The EPS user interface management system',\n",
       "       'System and human system engineering testing of EPS',\n",
       "       'Relation of user perceived response time to error measurement',\n",
       "       'The generation of random binary unordered trees',\n",
       "       'The intersection graph of paths in trees',\n",
       "       'Graph minors IV Widths of trees and well quasi ordering',\n",
       "       'Graph minors A survey'],\n",
       "      dtype='|S61')"
      ]
     },
     "execution_count": 19,
     "metadata": {},
     "output_type": "execute_result"
    }
   ],
   "source": [
    "preprocessor.corpus"
   ]
  },
  {
   "cell_type": "markdown",
   "metadata": {},
   "source": [
    "##### Tokenize"
   ]
  },
  {
   "cell_type": "markdown",
   "metadata": {},
   "source": [
    "###### Use `Porter` Stemmer"
   ]
  },
  {
   "cell_type": "code",
   "execution_count": 20,
   "metadata": {
    "ExecuteTime": {
     "end_time": "2017-07-22T18:54:25.825136Z",
     "start_time": "2017-07-22T18:54:25.821923Z"
    },
    "collapsed": true
   },
   "outputs": [],
   "source": [
    "from nltk.stem.porter import PorterStemmer"
   ]
  },
  {
   "cell_type": "code",
   "execution_count": 21,
   "metadata": {
    "ExecuteTime": {
     "end_time": "2017-07-22T18:54:26.049151Z",
     "start_time": "2017-07-22T18:54:26.045873Z"
    },
    "collapsed": true
   },
   "outputs": [],
   "source": [
    "stemmer = PorterStemmer()"
   ]
  },
  {
   "cell_type": "markdown",
   "metadata": {},
   "source": [
    "Set `min_freq` to 0 and use the default value of `min_length` (1)"
   ]
  },
  {
   "cell_type": "code",
   "execution_count": 22,
   "metadata": {
    "ExecuteTime": {
     "end_time": "2017-07-22T18:54:26.532012Z",
     "start_time": "2017-07-22T18:54:26.525547Z"
    },
    "collapsed": true
   },
   "outputs": [],
   "source": [
    "preprocessor.tokenize(stemmer, 0)"
   ]
  },
  {
   "cell_type": "code",
   "execution_count": 23,
   "metadata": {
    "ExecuteTime": {
     "end_time": "2017-07-22T18:54:26.867230Z",
     "start_time": "2017-07-22T18:54:26.861883Z"
    }
   },
   "outputs": [
    {
     "data": {
      "text/plain": [
       "array([ list(['human', u'machin', u'interfac', 'lab', 'abc', u'comput', u'applic']),\n",
       "       list(['survey', 'user', 'opinion', u'comput', 'system', u'respons', 'time']),\n",
       "       list([u'ep', 'user', u'interfac', u'manag', 'system']),\n",
       "       list(['system', 'human', 'system', u'engin', u'test', u'ep']),\n",
       "       list([u'relat', 'user', u'perceiv', u'respons', 'time', 'error', u'measur']),\n",
       "       list([u'gener', 'random', u'binari', u'unord', u'tree']),\n",
       "       list([u'intersect', 'graph', u'path', u'tree']),\n",
       "       list(['graph', u'minor', 'iv', u'width', u'tree', 'well', 'quasi', u'order']),\n",
       "       list(['graph', u'minor', 'survey'])], dtype=object)"
      ]
     },
     "execution_count": 23,
     "metadata": {},
     "output_type": "execute_result"
    }
   ],
   "source": [
    "preprocessor.corpus"
   ]
  },
  {
   "cell_type": "markdown",
   "metadata": {},
   "source": [
    "##### Serialize the corpus"
   ]
  },
  {
   "cell_type": "markdown",
   "metadata": {},
   "source": [
    "###### Save as `Market Matrix format`"
   ]
  },
  {
   "cell_type": "markdown",
   "metadata": {
    "ExecuteTime": {
     "end_time": "2017-07-22T16:11:52.935190Z",
     "start_time": "2017-07-22T16:11:52.929845Z"
    }
   },
   "source": [
    "See http://math.nist.gov/MatrixMarket/formats.html"
   ]
  },
  {
   "cell_type": "code",
   "execution_count": 25,
   "metadata": {
    "ExecuteTime": {
     "end_time": "2017-07-22T18:54:50.202594Z",
     "start_time": "2017-07-22T18:54:50.193283Z"
    }
   },
   "outputs": [],
   "source": [
    "preprocessor.serialize(format_='MmCorpus', path='~/Desktop')"
   ]
  },
  {
   "cell_type": "markdown",
   "metadata": {},
   "source": [
    "#### Frequencies of words/tokens"
   ]
  },
  {
   "cell_type": "code",
   "execution_count": 26,
   "metadata": {
    "ExecuteTime": {
     "end_time": "2017-07-22T18:54:51.970848Z",
     "start_time": "2017-07-22T18:54:51.944579Z"
    }
   },
   "outputs": [
    {
     "data": {
      "text/html": [
       "<div>\n",
       "<style>\n",
       "    .dataframe thead tr:only-child th {\n",
       "        text-align: right;\n",
       "    }\n",
       "\n",
       "    .dataframe thead th {\n",
       "        text-align: left;\n",
       "    }\n",
       "\n",
       "    .dataframe tbody tr th {\n",
       "        vertical-align: top;\n",
       "    }\n",
       "</style>\n",
       "<table border=\"1\" class=\"dataframe\">\n",
       "  <thead>\n",
       "    <tr style=\"text-align: right;\">\n",
       "      <th></th>\n",
       "      <th>word</th>\n",
       "      <th>frequency</th>\n",
       "    </tr>\n",
       "  </thead>\n",
       "  <tbody>\n",
       "    <tr>\n",
       "      <th>11</th>\n",
       "      <td>system</td>\n",
       "      <td>4</td>\n",
       "    </tr>\n",
       "    <tr>\n",
       "      <th>10</th>\n",
       "      <td>graph</td>\n",
       "      <td>3</td>\n",
       "    </tr>\n",
       "    <tr>\n",
       "      <th>28</th>\n",
       "      <td>tree</td>\n",
       "      <td>3</td>\n",
       "    </tr>\n",
       "    <tr>\n",
       "      <th>24</th>\n",
       "      <td>user</td>\n",
       "      <td>3</td>\n",
       "    </tr>\n",
       "    <tr>\n",
       "      <th>0</th>\n",
       "      <td>comput</td>\n",
       "      <td>2</td>\n",
       "    </tr>\n",
       "    <tr>\n",
       "      <th>32</th>\n",
       "      <td>time</td>\n",
       "      <td>2</td>\n",
       "    </tr>\n",
       "    <tr>\n",
       "      <th>31</th>\n",
       "      <td>survey</td>\n",
       "      <td>2</td>\n",
       "    </tr>\n",
       "    <tr>\n",
       "      <th>14</th>\n",
       "      <td>interfac</td>\n",
       "      <td>2</td>\n",
       "    </tr>\n",
       "    <tr>\n",
       "      <th>17</th>\n",
       "      <td>minor</td>\n",
       "      <td>2</td>\n",
       "    </tr>\n",
       "    <tr>\n",
       "      <th>6</th>\n",
       "      <td>ep</td>\n",
       "      <td>2</td>\n",
       "    </tr>\n",
       "    <tr>\n",
       "      <th>4</th>\n",
       "      <td>human</td>\n",
       "      <td>2</td>\n",
       "    </tr>\n",
       "    <tr>\n",
       "      <th>5</th>\n",
       "      <td>respons</td>\n",
       "      <td>2</td>\n",
       "    </tr>\n",
       "    <tr>\n",
       "      <th>9</th>\n",
       "      <td>width</td>\n",
       "      <td>1</td>\n",
       "    </tr>\n",
       "    <tr>\n",
       "      <th>23</th>\n",
       "      <td>lab</td>\n",
       "      <td>1</td>\n",
       "    </tr>\n",
       "    <tr>\n",
       "      <th>33</th>\n",
       "      <td>opinion</td>\n",
       "      <td>1</td>\n",
       "    </tr>\n",
       "    <tr>\n",
       "      <th>2</th>\n",
       "      <td>random</td>\n",
       "      <td>1</td>\n",
       "    </tr>\n",
       "    <tr>\n",
       "      <th>3</th>\n",
       "      <td>iv</td>\n",
       "      <td>1</td>\n",
       "    </tr>\n",
       "    <tr>\n",
       "      <th>30</th>\n",
       "      <td>unord</td>\n",
       "      <td>1</td>\n",
       "    </tr>\n",
       "    <tr>\n",
       "      <th>29</th>\n",
       "      <td>order</td>\n",
       "      <td>1</td>\n",
       "    </tr>\n",
       "    <tr>\n",
       "      <th>27</th>\n",
       "      <td>perceiv</td>\n",
       "      <td>1</td>\n",
       "    </tr>\n",
       "    <tr>\n",
       "      <th>26</th>\n",
       "      <td>measur</td>\n",
       "      <td>1</td>\n",
       "    </tr>\n",
       "    <tr>\n",
       "      <th>25</th>\n",
       "      <td>path</td>\n",
       "      <td>1</td>\n",
       "    </tr>\n",
       "    <tr>\n",
       "      <th>22</th>\n",
       "      <td>error</td>\n",
       "      <td>1</td>\n",
       "    </tr>\n",
       "    <tr>\n",
       "      <th>8</th>\n",
       "      <td>engin</td>\n",
       "      <td>1</td>\n",
       "    </tr>\n",
       "    <tr>\n",
       "      <th>21</th>\n",
       "      <td>gener</td>\n",
       "      <td>1</td>\n",
       "    </tr>\n",
       "    <tr>\n",
       "      <th>20</th>\n",
       "      <td>relat</td>\n",
       "      <td>1</td>\n",
       "    </tr>\n",
       "    <tr>\n",
       "      <th>19</th>\n",
       "      <td>applic</td>\n",
       "      <td>1</td>\n",
       "    </tr>\n",
       "    <tr>\n",
       "      <th>18</th>\n",
       "      <td>machin</td>\n",
       "      <td>1</td>\n",
       "    </tr>\n",
       "    <tr>\n",
       "      <th>1</th>\n",
       "      <td>well</td>\n",
       "      <td>1</td>\n",
       "    </tr>\n",
       "    <tr>\n",
       "      <th>16</th>\n",
       "      <td>test</td>\n",
       "      <td>1</td>\n",
       "    </tr>\n",
       "    <tr>\n",
       "      <th>15</th>\n",
       "      <td>intersect</td>\n",
       "      <td>1</td>\n",
       "    </tr>\n",
       "    <tr>\n",
       "      <th>13</th>\n",
       "      <td>quasi</td>\n",
       "      <td>1</td>\n",
       "    </tr>\n",
       "    <tr>\n",
       "      <th>12</th>\n",
       "      <td>binari</td>\n",
       "      <td>1</td>\n",
       "    </tr>\n",
       "    <tr>\n",
       "      <th>7</th>\n",
       "      <td>abc</td>\n",
       "      <td>1</td>\n",
       "    </tr>\n",
       "    <tr>\n",
       "      <th>34</th>\n",
       "      <td>manag</td>\n",
       "      <td>1</td>\n",
       "    </tr>\n",
       "  </tbody>\n",
       "</table>\n",
       "</div>"
      ],
      "text/plain": [
       "         word  frequency\n",
       "11     system          4\n",
       "10      graph          3\n",
       "28       tree          3\n",
       "24       user          3\n",
       "0      comput          2\n",
       "32       time          2\n",
       "31     survey          2\n",
       "14   interfac          2\n",
       "17      minor          2\n",
       "6          ep          2\n",
       "4       human          2\n",
       "5     respons          2\n",
       "9       width          1\n",
       "23        lab          1\n",
       "33    opinion          1\n",
       "2      random          1\n",
       "3          iv          1\n",
       "30      unord          1\n",
       "29      order          1\n",
       "27    perceiv          1\n",
       "26     measur          1\n",
       "25       path          1\n",
       "22      error          1\n",
       "8       engin          1\n",
       "21      gener          1\n",
       "20      relat          1\n",
       "19     applic          1\n",
       "18     machin          1\n",
       "1        well          1\n",
       "16       test          1\n",
       "15  intersect          1\n",
       "13      quasi          1\n",
       "12     binari          1\n",
       "7         abc          1\n",
       "34      manag          1"
      ]
     },
     "execution_count": 26,
     "metadata": {},
     "output_type": "execute_result"
    }
   ],
   "source": [
    "preprocessor.get_word_ranking()"
   ]
  },
  {
   "cell_type": "code",
   "execution_count": null,
   "metadata": {
    "collapsed": true
   },
   "outputs": [],
   "source": []
  }
 ],
 "metadata": {
  "kernelspec": {
   "display_name": "Python 2",
   "language": "python",
   "name": "python2"
  },
  "language_info": {
   "codemirror_mode": {
    "name": "ipython",
    "version": 2
   },
   "file_extension": ".py",
   "mimetype": "text/x-python",
   "name": "python",
   "nbconvert_exporter": "python",
   "pygments_lexer": "ipython2",
   "version": "2.7.13"
  },
  "toc": {
   "colors": {
    "hover_highlight": "#DAA520",
    "navigate_num": "#000000",
    "navigate_text": "#333333",
    "running_highlight": "#FF0000",
    "selected_highlight": "#FFD700",
    "sidebar_border": "#EEEEEE",
    "wrapper_background": "#FFFFFF"
   },
   "moveMenuLeft": true,
   "nav_menu": {
    "height": "331px",
    "width": "254px"
   },
   "navigate_menu": true,
   "number_sections": true,
   "sideBar": true,
   "threshold": 4,
   "toc_cell": false,
   "toc_section_display": "block",
   "toc_window_display": true,
   "widenNotebook": false
  }
 },
 "nbformat": 4,
 "nbformat_minor": 2
}
